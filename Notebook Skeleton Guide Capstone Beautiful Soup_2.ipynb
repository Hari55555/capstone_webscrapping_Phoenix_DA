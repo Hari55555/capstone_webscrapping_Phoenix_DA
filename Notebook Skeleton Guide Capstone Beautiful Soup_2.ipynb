{
 "cells": [
  {
   "cell_type": "markdown",
   "metadata": {},
   "source": [
    "# Capstone Webscrapping using BeautifulSoup\n",
    "\n",
    "This notebook contains guidances & tasks on the data processing for the application\n",
    "\n",
    "## background\n",
    "\n",
    "Ethereum adalah token Aset Kripto yang mirip dengan bitcoin karena dapat digunakan dalam transaksi peer-to-peer, atau dibeli dan dijual di bursa dengan nilai spekulatif.<br>\n",
    "Ether memiliki banyak aplikasi di luar penggunaannya sebagai token atau mata uang virtual, dan ada banyak proyek menarik sedang dibangun di jaringan Ethereum.<br>\n",
    "Pada Capstone ini kita mencoba menganalisa volume perdagangan Ethereum dari periode Januari 2020 hingga Juni 2021.<br>\n",
    "Historical Data pergerakan Volume dan Market Cap Ethereum kita ambil dari  [CoinGecko.com](https://www.coingecko.com/en/coins/ethereum/historical_data/usd?start_date=2020-01-01&end_date=2021-07-01)\n",
    "\n",
    "## Requesting the Data and Creating a BeautifulSoup\n",
    "\n",
    "Let's begin with requesting the web from the site with `get` method."
   ]
  },
  {
   "cell_type": "code",
   "execution_count": 1,
   "metadata": {
    "ExecuteTime": {
     "end_time": "2020-01-13T05:12:23.275508Z",
     "start_time": "2020-01-13T05:12:20.009898Z"
    }
   },
   "outputs": [],
   "source": [
    "import requests\n",
    "\n",
    "url_get = requests.get('https://www.coingecko.com/en/coins/ethereum/historical_data/usd?start_date=2020-01-01&end_date=2021-06-30')"
   ]
  },
  {
   "cell_type": "markdown",
   "metadata": {},
   "source": [
    "To visualize what exactly you get from the `request.get`, we can use .content so ee what we exactly get, in here i slice it so it won't make our screen full of the html we get from the page. You can delete the slicing if you want to see what we fully get."
   ]
  },
  {
   "cell_type": "code",
   "execution_count": 2,
   "metadata": {
    "ExecuteTime": {
     "end_time": "2020-01-13T05:12:23.290648Z",
     "start_time": "2020-01-13T05:12:23.277650Z"
    }
   },
   "outputs": [
    {
     "data": {
      "text/plain": [
       "b'!DOCTYPE html>\\n<html lang=\"en\">\\n<head>\\n<meta charset=\"utf-8\">\\n<meta http-equiv=\"X-UA-Compatible\" content=\"IE=edge\">\\n<meta name=\"viewport\" content=\"width=device-width, initial-scale=1.0\">\\n<link rel=\"shortcut icon\" href=\"/favicon.ico\">\\n<link type=\"application/opensearchdescription+xml\" rel=\"search\" href=\"/OpensearchDescription.xml\" />\\n<title>Ethereum USD Historical Data | CoinGecko</title>\\n<meta name=\"description\" content=\"Get Ethereum (ETH) USD historical prices.\" />\\n\\n\\n<script>(function(w,d,s,l,'"
      ]
     },
     "execution_count": 2,
     "metadata": {},
     "output_type": "execute_result"
    }
   ],
   "source": [
    "url_get.content[1:500]"
   ]
  },
  {
   "cell_type": "markdown",
   "metadata": {},
   "source": [
    "As we can see we get a very unstructured and complex html, which actually contains the codes needed to show the webpages on your web browser. But we as human still confused what and where we can use that piece of code, so here where we use the beautifulsoup. Beautiful soup class will result a beautifulsoup object. Beautiful Soup transforms a complex HTML document into a complex tree of Python objects. \n",
    "\n",
    "Let's make Beautiful soup object and feel free to explore the object here."
   ]
  },
  {
   "cell_type": "code",
   "execution_count": 3,
   "metadata": {
    "ExecuteTime": {
     "end_time": "2020-01-13T05:12:23.808122Z",
     "start_time": "2020-01-13T05:12:23.292610Z"
    }
   },
   "outputs": [],
   "source": [
    "from bs4 import BeautifulSoup \n",
    "\n",
    "soup = BeautifulSoup(url_get.content,\"html.parser\")"
   ]
  },
  {
   "cell_type": "markdown",
   "metadata": {},
   "source": [
    "## Finding the right key to scrap the data & Extracting the right information"
   ]
  },
  {
   "cell_type": "markdown",
   "metadata": {},
   "source": [
    "Find the key and put the key into the `.find()` Put all the exploring the right key at this cell.\n",
    "\n",
    "Pada tahapan ini kita harus menemukan key yang tepat untuk dapat mengambil seluruh informasi historical Ethereum. <br>\n",
    "Untuk mendapatkan seluruh historical data, kita menggunakan key `.find(tbody)`, karena dengan menggunakan key tersebut kita datap mengambil seluruh informasi yang ada di table"
   ]
  },
  {
   "cell_type": "code",
   "execution_count": 4,
   "metadata": {
    "ExecuteTime": {
     "end_time": "2020-01-13T05:12:23.878904Z",
     "start_time": "2020-01-13T05:12:23.854974Z"
    }
   },
   "outputs": [
    {
     "name": "stdout",
     "output_type": "stream",
     "text": [
      "tbody>\n",
      " <tr>\n",
      "  <th class=\"font-semibold text-center\" scope=\"row\">\n",
      "   2021-06-30\n",
      "  </th>\n",
      "  <td class=\"text-center\">\n",
      "   $253,607,549,372\n",
      "  </td>\n",
      "  <td class=\"text-center\">\n",
      "   $27,149,143,847\n",
      "  </td>\n",
      "  <td class=\"text-center\">\n",
      "   $2,169.40\n",
      "  </td>\n",
      "  <td class=\"text-center\">\n",
      "   N/A\n",
      "  </td>\n",
      " </tr>\n",
      " <tr>\n",
      "  <th class=\"font-semibold text-center\" scope=\"row\">\n",
      "   2021-06-29\n",
      "  </th>\n",
      "  <td class=\"text-center\">\n",
      "   $243,040,539,437\n",
      "  </td>\n",
      "  <td class=\"text-center\">\n",
      "   $30,629,329,806\n",
      "  </td>\n",
      "  <td class=\"te\n"
     ]
    }
   ],
   "source": [
    "table = soup.find('tbody')\n",
    "print(table.prettify()[1:500])"
   ]
  },
  {
   "cell_type": "markdown",
   "metadata": {},
   "source": [
    "Finding row length."
   ]
  },
  {
   "cell_type": "code",
   "execution_count": 5,
   "metadata": {},
   "outputs": [
    {
     "data": {
      "text/plain": [
       "547"
      ]
     },
     "execution_count": 5,
     "metadata": {},
     "output_type": "execute_result"
    }
   ],
   "source": [
    "rows = table.find_all('tr')\n",
    "row_length = len(rows)\n",
    "row_length"
   ]
  },
  {
   "cell_type": "markdown",
   "metadata": {},
   "source": [
    "Do the scrapping process here\n",
    "\n",
    "Langkah pertama yang dilakukan adalah `.find_all(['td','th'])` untuk mendapatkan seluruh data yang ada dan menyimpan ke dalam object `cols`. <br>\n",
    "Selanjutnya adalah melakukan iterasi dan menyimpan datanya ke object `temp`"
   ]
  },
  {
   "cell_type": "code",
   "execution_count": 6,
   "metadata": {
    "ExecuteTime": {
     "end_time": "2020-01-13T05:12:24.008256Z",
     "start_time": "2020-01-13T05:12:23.980358Z"
    }
   },
   "outputs": [
    {
     "data": {
      "text/plain": [
       "[['2021-06-30', '$253,607,549,372', '$27,149,143,847', '$2,169.40', 'N/A'],\n",
       " ['2021-06-29',\n",
       "  '$243,040,539,437',\n",
       "  '$30,629,329,806',\n",
       "  '$2,087.52',\n",
       "  '$2,169.40'],\n",
       " ['2021-06-28',\n",
       "  '$229,354,016,311',\n",
       "  '$24,316,408,028',\n",
       "  '$1,973.93',\n",
       "  '$2,087.52'],\n",
       " ['2021-06-27',\n",
       "  '$209,989,265,221',\n",
       "  '$24,249,510,321',\n",
       "  '$1,817.05',\n",
       "  '$1,973.93'],\n",
       " ['2021-06-26',\n",
       "  '$213,871,849,532',\n",
       "  '$25,981,381,067',\n",
       "  '$1,833.46',\n",
       "  '$1,817.05']]"
      ]
     },
     "execution_count": 6,
     "metadata": {},
     "output_type": "execute_result"
    }
   ],
   "source": [
    "temp = [] #initiating a tuple\n",
    "\n",
    "for row in rows:\n",
    "    cols = row.find_all(['td','th'])\n",
    "    cols = [ele.text.strip() for ele in cols]\n",
    "    temp.append([ele for ele in cols if ele])\n",
    "\n",
    "temp[:5]"
   ]
  },
  {
   "cell_type": "markdown",
   "metadata": {},
   "source": [
    "## Creating data frame & Data wrangling"
   ]
  },
  {
   "cell_type": "markdown",
   "metadata": {},
   "source": [
    "Put the array into dataframe"
   ]
  },
  {
   "cell_type": "code",
   "execution_count": 7,
   "metadata": {
    "ExecuteTime": {
     "end_time": "2020-01-13T05:12:41.517372Z",
     "start_time": "2020-01-13T05:12:29.130015Z"
    },
    "scrolled": true
   },
   "outputs": [
    {
     "data": {
      "text/html": [
       "<div>\n",
       "<style scoped>\n",
       "    .dataframe tbody tr th:only-of-type {\n",
       "        vertical-align: middle;\n",
       "    }\n",
       "\n",
       "    .dataframe tbody tr th {\n",
       "        vertical-align: top;\n",
       "    }\n",
       "\n",
       "    .dataframe thead th {\n",
       "        text-align: right;\n",
       "    }\n",
       "</style>\n",
       "<table border=\"1\" class=\"dataframe\">\n",
       "  <thead>\n",
       "    <tr style=\"text-align: right;\">\n",
       "      <th></th>\n",
       "      <th>Date</th>\n",
       "      <th>Market_Cap</th>\n",
       "      <th>Volume</th>\n",
       "      <th>Open</th>\n",
       "      <th>Close</th>\n",
       "    </tr>\n",
       "  </thead>\n",
       "  <tbody>\n",
       "    <tr>\n",
       "      <th>0</th>\n",
       "      <td>2021-06-30</td>\n",
       "      <td>$253,607,549,372</td>\n",
       "      <td>$27,149,143,847</td>\n",
       "      <td>$2,169.40</td>\n",
       "      <td>N/A</td>\n",
       "    </tr>\n",
       "    <tr>\n",
       "      <th>1</th>\n",
       "      <td>2021-06-29</td>\n",
       "      <td>$243,040,539,437</td>\n",
       "      <td>$30,629,329,806</td>\n",
       "      <td>$2,087.52</td>\n",
       "      <td>$2,169.40</td>\n",
       "    </tr>\n",
       "    <tr>\n",
       "      <th>2</th>\n",
       "      <td>2021-06-28</td>\n",
       "      <td>$229,354,016,311</td>\n",
       "      <td>$24,316,408,028</td>\n",
       "      <td>$1,973.93</td>\n",
       "      <td>$2,087.52</td>\n",
       "    </tr>\n",
       "    <tr>\n",
       "      <th>3</th>\n",
       "      <td>2021-06-27</td>\n",
       "      <td>$209,989,265,221</td>\n",
       "      <td>$24,249,510,321</td>\n",
       "      <td>$1,817.05</td>\n",
       "      <td>$1,973.93</td>\n",
       "    </tr>\n",
       "    <tr>\n",
       "      <th>4</th>\n",
       "      <td>2021-06-26</td>\n",
       "      <td>$213,871,849,532</td>\n",
       "      <td>$25,981,381,067</td>\n",
       "      <td>$1,833.46</td>\n",
       "      <td>$1,817.05</td>\n",
       "    </tr>\n",
       "  </tbody>\n",
       "</table>\n",
       "</div>"
      ],
      "text/plain": [
       "         Date        Market_Cap           Volume       Open      Close\n",
       "0  2021-06-30  $253,607,549,372  $27,149,143,847  $2,169.40        N/A\n",
       "1  2021-06-29  $243,040,539,437  $30,629,329,806  $2,087.52  $2,169.40\n",
       "2  2021-06-28  $229,354,016,311  $24,316,408,028  $1,973.93  $2,087.52\n",
       "3  2021-06-27  $209,989,265,221  $24,249,510,321  $1,817.05  $1,973.93\n",
       "4  2021-06-26  $213,871,849,532  $25,981,381,067  $1,833.46  $1,817.05"
      ]
     },
     "execution_count": 7,
     "metadata": {},
     "output_type": "execute_result"
    }
   ],
   "source": [
    "import pandas as pd\n",
    "\n",
    "df = pd.DataFrame(temp, columns = ('Date','Market_Cap','Volume', 'Open', 'Close' ))\n",
    "df.head()"
   ]
  },
  {
   "cell_type": "code",
   "execution_count": 8,
   "metadata": {},
   "outputs": [
    {
     "data": {
      "text/plain": [
       "Date          object\n",
       "Market_Cap    object\n",
       "Volume        object\n",
       "Open          object\n",
       "Close         object\n",
       "dtype: object"
      ]
     },
     "execution_count": 8,
     "metadata": {},
     "output_type": "execute_result"
    }
   ],
   "source": [
    "df.dtypes"
   ]
  },
  {
   "cell_type": "code",
   "execution_count": 9,
   "metadata": {},
   "outputs": [],
   "source": [
    "pd.options.display.float_format = '{:.2f}'.format"
   ]
  },
  {
   "cell_type": "markdown",
   "metadata": {},
   "source": [
    "Do the data cleaning here\n",
    "\n",
    "Dari informasi tipe diatas, berikut adalah langkah-langkah yang dilakukan untuk data cleaning:<br>\n",
    "    - Merubah data **Date** menjadi `datetime`,<br>\n",
    "    - Menghilangkan kode currency,<br>\n",
    "    - Merubah data **Market Cap, Volume** menjadi `integer`,<br>\n",
    "    - Merubah data **Open, Close** menjadi `float`,<br>\n",
    "    - Mengisi value N/A pada Close dengan value yang di dapat dari website untuk tanggal 30 Juni 2021 ,<br>\n",
    "    - Memberikan format separator untuk ribuan"
   ]
  },
  {
   "cell_type": "code",
   "execution_count": 10,
   "metadata": {
    "ExecuteTime": {
     "end_time": "2020-01-13T05:12:59.165559Z",
     "start_time": "2020-01-13T05:12:58.910012Z"
    },
    "scrolled": false
   },
   "outputs": [
    {
     "data": {
      "text/plain": [
       "Date          datetime64[ns]\n",
       "Market_Cap             int64\n",
       "Volume                 int64\n",
       "Open                 float64\n",
       "Close                float64\n",
       "dtype: object"
      ]
     },
     "execution_count": 10,
     "metadata": {},
     "output_type": "execute_result"
    }
   ],
   "source": [
    "df['Date'] = df['Date'].astype('datetime64')\n",
    "df['Market_Cap'] = df['Market_Cap'].replace({'\\$': '', ',': ''}, regex=True)\n",
    "df['Market_Cap'] = df['Market_Cap'].astype('int64')\n",
    "df['Volume'] = df['Volume'].replace({'\\$': '', ',': ''}, regex=True)\n",
    "df['Volume'] = df['Volume'].astype('int64')\n",
    "df['Open'] = df['Open'].replace({'\\$': '', ',': ''}, regex=True)\n",
    "df['Open'] = df['Open'].astype('float64')\n",
    "df['Close'] = df['Close'].replace({'\\$': '','N/A': '2279.35', ',': ''}, regex=True) # amount close N/A diambil dari Web\n",
    "df['Close'] = df['Close'].astype('float64')\n",
    "\n",
    "\n",
    "df.dtypes\n"
   ]
  },
  {
   "cell_type": "code",
   "execution_count": 11,
   "metadata": {
    "scrolled": true
   },
   "outputs": [],
   "source": [
    "class _IntArrayFormatter(pd.io.formats.format.GenericArrayFormatter):\n",
    "\n",
    "    def _format_strings(self):\n",
    "        formatter = self.formatter or (lambda x: ' {:,}'.format(x))\n",
    "        fmt_values = [formatter(x) for x in self.values]\n",
    "        return fmt_values\n",
    "\n",
    "pd.io.formats.format.IntArrayFormatter = _IntArrayFormatter"
   ]
  },
  {
   "cell_type": "code",
   "execution_count": 12,
   "metadata": {
    "scrolled": true
   },
   "outputs": [
    {
     "data": {
      "text/html": [
       "<div>\n",
       "<style scoped>\n",
       "    .dataframe tbody tr th:only-of-type {\n",
       "        vertical-align: middle;\n",
       "    }\n",
       "\n",
       "    .dataframe tbody tr th {\n",
       "        vertical-align: top;\n",
       "    }\n",
       "\n",
       "    .dataframe thead th {\n",
       "        text-align: right;\n",
       "    }\n",
       "</style>\n",
       "<table border=\"1\" class=\"dataframe\">\n",
       "  <thead>\n",
       "    <tr style=\"text-align: right;\">\n",
       "      <th></th>\n",
       "      <th>Date</th>\n",
       "      <th>Market_Cap</th>\n",
       "      <th>Volume</th>\n",
       "      <th>Open</th>\n",
       "      <th>Close</th>\n",
       "    </tr>\n",
       "  </thead>\n",
       "  <tbody>\n",
       "    <tr>\n",
       "      <th>0</th>\n",
       "      <td>2021-06-30</td>\n",
       "      <td>253,607,549,372</td>\n",
       "      <td>27,149,143,847</td>\n",
       "      <td>2169.40</td>\n",
       "      <td>2279.35</td>\n",
       "    </tr>\n",
       "    <tr>\n",
       "      <th>1</th>\n",
       "      <td>2021-06-29</td>\n",
       "      <td>243,040,539,437</td>\n",
       "      <td>30,629,329,806</td>\n",
       "      <td>2087.52</td>\n",
       "      <td>2169.40</td>\n",
       "    </tr>\n",
       "    <tr>\n",
       "      <th>2</th>\n",
       "      <td>2021-06-28</td>\n",
       "      <td>229,354,016,311</td>\n",
       "      <td>24,316,408,028</td>\n",
       "      <td>1973.93</td>\n",
       "      <td>2087.52</td>\n",
       "    </tr>\n",
       "    <tr>\n",
       "      <th>3</th>\n",
       "      <td>2021-06-27</td>\n",
       "      <td>209,989,265,221</td>\n",
       "      <td>24,249,510,321</td>\n",
       "      <td>1817.05</td>\n",
       "      <td>1973.93</td>\n",
       "    </tr>\n",
       "    <tr>\n",
       "      <th>4</th>\n",
       "      <td>2021-06-26</td>\n",
       "      <td>213,871,849,532</td>\n",
       "      <td>25,981,381,067</td>\n",
       "      <td>1833.46</td>\n",
       "      <td>1817.05</td>\n",
       "    </tr>\n",
       "  </tbody>\n",
       "</table>\n",
       "</div>"
      ],
      "text/plain": [
       "        Date       Market_Cap          Volume    Open   Close\n",
       "0 2021-06-30  253,607,549,372  27,149,143,847 2169.40 2279.35\n",
       "1 2021-06-29  243,040,539,437  30,629,329,806 2087.52 2169.40\n",
       "2 2021-06-28  229,354,016,311  24,316,408,028 1973.93 2087.52\n",
       "3 2021-06-27  209,989,265,221  24,249,510,321 1817.05 1973.93\n",
       "4 2021-06-26  213,871,849,532  25,981,381,067 1833.46 1817.05"
      ]
     },
     "execution_count": 12,
     "metadata": {},
     "output_type": "execute_result"
    }
   ],
   "source": [
    "df.head()"
   ]
  },
  {
   "cell_type": "code",
   "execution_count": 13,
   "metadata": {},
   "outputs": [],
   "source": [
    "df = df.set_index('Date')"
   ]
  },
  {
   "cell_type": "markdown",
   "metadata": {},
   "source": [
    "Data visualisation\n",
    "\n",
    "Pada plot Volume dapat dilihat trend volume transaksi Eteherium pada periode Jan 2020 sampai Juni 2021. <br>\n",
    "Sementara pada plot Open dan Close Price dapat dilihat trend harga Ethereum"
   ]
  },
  {
   "cell_type": "code",
   "execution_count": 14,
   "metadata": {
    "scrolled": false
   },
   "outputs": [
    {
     "data": {
      "text/plain": [
       "<AxesSubplot:title={'center':'Volume Ethereum from Jan-20 to Jun-21'}, xlabel='Date', ylabel='Price (in USD)'>"
      ]
     },
     "execution_count": 14,
     "metadata": {},
     "output_type": "execute_result"
    },
    {
     "data": {
      "image/png": "[encoded data removed]",
      "text/plain": [
       "<Figure size 432x288 with 1 Axes>"
      ]
     },
     "metadata": {
      "needs_background": "light"
     },
     "output_type": "display_data"
    }
   ],
   "source": [
    "df[['Volume']].plot(xlabel = 'Date',\n",
    "                        ylabel = \"Price (in USD)\",\n",
    "                        title = \"Volume Ethereum from Jan-20 to Jun-21\")"
   ]
  },
  {
   "cell_type": "code",
   "execution_count": 15,
   "metadata": {},
   "outputs": [
    {
     "data": {
      "text/plain": [
       "<AxesSubplot:title={'center':'Opening and Closing Price'}, xlabel='Date', ylabel='Price (in USD)'>"
      ]
     },
     "execution_count": 15,
     "metadata": {},
     "output_type": "execute_result"
    },
    {
     "data": {
      "image/png": "[encoded data removed]",
      "text/plain": [
       "<Figure size 432x288 with 1 Axes>"
      ]
     },
     "metadata": {
      "needs_background": "light"
     },
     "output_type": "display_data"
    }
   ],
   "source": [
    "df[['Open','Close']].plot(\n",
    "                        xlabel = 'Date',\n",
    "                        ylabel = \"Price (in USD)\",\n",
    "                        title = \"Opening and Closing Price\")"
   ]
  },
  {
   "cell_type": "markdown",
   "metadata": {},
   "source": [
    "### Implementing your webscrapping to the flask dashboard\n",
    "\n",
    "- Copy paste all of your web scrapping process to the desired position on the `app.py`\n",
    "- Changing the title of the dasboard at `index.html`"
   ]
  },
  {
   "cell_type": "markdown",
   "metadata": {},
   "source": [
    "## Finishing This Notebook with Your Analysis and Conclusion\n",
    "\n",
    "First you can do start with making the data visualisation. "
   ]
  },
  {
   "cell_type": "code",
   "execution_count": 25,
   "metadata": {
    "ExecuteTime": {
     "end_time": "2020-01-13T05:20:56.208237Z",
     "start_time": "2020-01-13T05:20:56.076043Z"
    },
    "scrolled": false
   },
   "outputs": [
    {
     "data": {
      "text/plain": [
       "<AxesSubplot:title={'center':'Volume vs Market_Cap Ethereum'}, xlabel='Date', ylabel='Price (in USD)'>"
      ]
     },
     "execution_count": 25,
     "metadata": {},
     "output_type": "execute_result"
    },
    {
     "data": {
      "image/png": "[encoded data removed]",
      "text/plain": [
       "<Figure size 432x288 with 1 Axes>"
      ]
     },
     "metadata": {
      "needs_background": "light"
     },
     "output_type": "display_data"
    }
   ],
   "source": [
    "df[['Volume', 'Market_Cap']].plot(xlabel = 'Date',\n",
    "                        ylabel = \"Price (in USD)\",\n",
    "                        title = \"Volume vs Market_Cap Ethereum\")"
   ]
  },
  {
   "cell_type": "markdown",
   "metadata": {},
   "source": [
    "\n",
    "Dari 3 Plot diatas (Volume, Open-Close, Market_Cap vs Volume) dapat ditarik kesimulan sbb: <br>\n",
    "1. Volume transaksi Ethereum relatif stabil pada tahun 2020, hanya terjadi lonjakan di bulan Agustus 2020\n",
    "2. Volume transaksi mengalami trend peningkatan pada tahun 2021 diawali dengan lonjakan yang cukup signifikan di Januari 2021\n",
    "3. Volome terjadi peningkatan yang cukup signifikan pada Januari dan Juni 2021\n",
    "4. Dari Plot Open_CLose dapat dilihat bahwa pada 2020 cenderung stabil walaupun ada tred kenaikan.\n",
    "5. Tahun 2021 harga Ethereum mengalami kenaikan yang sangat signifikan, terutama di bulan May yang hampir menyentuh 5.000 USD\n",
    "6. Sejalan dengan meningkatnya harga Ethereum sehingga terjadi peningkatan yang sangat signifikan pada Market Cap Ethereum\n",
    "\n",
    "Dengan melihat data-data diatas dapat disimpulan bahwa Ethereum mengalami trend kenaikan pada 2021, tetapi juga memiliki fluktuasi yang sangat tinggi. Sehingga untuk melakukan investisasi pada Ethereum harus dilakukan pada waktu yang tepat. contohnya kalau melihat data diatas akhir bulan Juni 2021 adalah saat yang tepat untuk melakukan investasi Ethereum."
   ]
  },
  {
   "cell_type": "markdown",
   "metadata": {},
   "source": [
    "### Extra Challange\n",
    "\n",
    "This will be not included to the scoring. \n",
    "\n",
    "- You can create additional analysis from the data.\n",
    "- Implement it to the dashboard with at `app.py` dan `index.html`."
   ]
  }
 ],
 "metadata": {
  "kernelspec": {
   "display_name": "phoenix_da",
   "language": "python",
   "name": "phoenix_da"
  },
  "language_info": {
   "codemirror_mode": {
    "name": "ipython",
    "version": 3
   },
   "file_extension": ".py",
   "mimetype": "text/x-python",
   "name": "python",
   "nbconvert_exporter": "python",
   "pygments_lexer": "ipython3",
   "version": "3.8.11"
  },
  "toc": {
   "base_numbering": 1,
   "nav_menu": {},
   "number_sections": true,
   "sideBar": true,
   "skip_h1_title": false,
   "title_cell": "Table of Contents",
   "title_sidebar": "Contents",
   "toc_cell": false,
   "toc_position": {},
   "toc_section_display": true,
   "toc_window_display": false
  }
 },
 "nbformat": 4,
 "nbformat_minor": 2
}
